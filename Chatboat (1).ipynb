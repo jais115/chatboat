{
 "cells": [
  {
   "cell_type": "code",
   "execution_count": null,
   "metadata": {},
   "outputs": [],
   "source": [
    "import pyttsx3\n",
    "import datetime\n",
    "import speech_recognition as sr\n",
    "import wikipedia\n",
    "import webbrowser"
   ]
  },
  {
   "cell_type": "code",
   "execution_count": null,
   "metadata": {},
   "outputs": [],
   "source": [
    "engine = pyttsx3.init('sapi5')\n",
    "voices = engine.getProperty('voices')\n",
    "print(voices[0].id)\n",
    "engine.setProperty('voice',voices[0].id)\n"
   ]
  },
  {
   "cell_type": "code",
   "execution_count": null,
   "metadata": {},
   "outputs": [],
   "source": [
    "def jarvisvoice(audioinput):\n",
    "    engine.say(audioinput)\n",
    "    engine.runAndWait()"
   ]
  },
  {
   "cell_type": "code",
   "execution_count": null,
   "metadata": {},
   "outputs": [],
   "source": [
    "def wish():\n",
    "    hour = int(datetime.datetime.now().hour)\n",
    "    print(\"----->\",hour)\n",
    "    if hour>=0 and hour<12:\n",
    "        jarvisvoice(\"Good Morning\")\n",
    "    elif hour>=12 and hour<18:\n",
    "        jarvisvoice(\"Good Afternoon !\")\n",
    "    else:\n",
    "        jarvisvoice(\"Good Evening !\")"
   ]
  },
  {
   "cell_type": "code",
   "execution_count": null,
   "metadata": {},
   "outputs": [],
   "source": [
    "def takecommand():\n",
    "    r = sr.Recognizer()\n",
    "    with sr.Microphone() as source:\n",
    "        print(\"listening...\")\n",
    "        r.pause_thresold=1\n",
    "        audio = r.listen(source)\n",
    "    try:\n",
    "        print(\"Recognizing...\")\n",
    "        query = r.recognize_google(audio,language='en-in')\n",
    "        print(\"Query :\",query)\n",
    "    except Exception as e:\n",
    "        print(e)\n",
    "        print(\"sorry...say that again please....\")\n",
    "        return \"None\"\n",
    "    return query\n",
    "\n",
    "wish()\n",
    "\n",
    "status = True\n",
    "while status:\n",
    "    query = takecommand().lower()\n",
    "    \n",
    "    if \"what is\" in query or \"who is \" in query:\n",
    "        jarvisvoice(\"searching in wikipedia\")\n",
    "        query = query.replace(\"wikipedia\",\"\")\n",
    "        result = wikipedia.summary(query,sentance=2)\n",
    "        print(result)\n",
    "        jarvisvoice(\"According to wikipedia...\")\n",
    "        jarvisvoice(result)\n",
    "    elif \"open google\" in query:\n",
    "        webbrowser.open(\"google.com\")\n",
    "    elif \"open youtube\" in query:\n",
    "        webbrowser.open(\"youtube.com\")\n",
    "    elif \"open gmail\" in query:\n",
    "        webbrowser.open(\"gmail.com\")\n",
    "    elif \"open facebook\" in query:\n",
    "        webbrowser.open(\"facebook.com\")\n",
    "    elif \"open procodr\" in query:\n",
    "        webbrowser.open(\"https://procodrs.github.io/in/\")\n",
    "    elif \"open procodr\" in query:\n",
    "        webbrowser.open(\"http://procodr.epizy.com/edu/\")\n",
    "        "
   ]
  },
  {
   "cell_type": "code",
   "execution_count": null,
   "metadata": {},
   "outputs": [],
   "source": []
  },
  {
   "cell_type": "code",
   "execution_count": null,
   "metadata": {},
   "outputs": [],
   "source": []
  },
  {
   "cell_type": "code",
   "execution_count": null,
   "metadata": {},
   "outputs": [],
   "source": []
  }
 ],
 "metadata": {
  "kernelspec": {
   "display_name": "Python 3",
   "language": "python",
   "name": "python3"
  },
  "language_info": {
   "codemirror_mode": {
    "name": "ipython",
    "version": 3
   },
   "file_extension": ".py",
   "mimetype": "text/x-python",
   "name": "python",
   "nbconvert_exporter": "python",
   "pygments_lexer": "ipython3",
   "version": "3.7.4"
  }
 },
 "nbformat": 4,
 "nbformat_minor": 2
}
